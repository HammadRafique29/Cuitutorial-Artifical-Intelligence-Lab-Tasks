{
 "cells": [
  {
   "cell_type": "markdown",
   "id": "7bb2b81b",
   "metadata": {},
   "source": [
    "### ----------------------------------------------------------------------\n",
    "__Name:__   Hammad Rafique  \n",
    "__Reg no:__ FA20-BSE-029  \n",
    "__Subject:__ Artifical Intelligence\n",
    "### -----------------------------------------------------------------------  \n",
    "  "
   ]
  },
  {
   "cell_type": "markdown",
   "id": "d3556515",
   "metadata": {},
   "source": [
    "### __Activity 1:__  \n",
    "\n",
    "Use loops to accept 5 values from user and store them\n",
    "in a list. Display all the values (objects) of the list.  \n"
   ]
  },
  {
   "cell_type": "code",
   "execution_count": 18,
   "id": "705cd02e",
   "metadata": {},
   "outputs": [
    {
     "name": "stdout",
     "output_type": "stream",
     "text": [
      "Enter your value:1\n",
      "Enter your value:2\n",
      "Enter your value:3\n",
      "Enter your value:4\n",
      "Enter your value:5\n",
      "The given value in list is: \n",
      "['1', '2', '3', '4', '5']\n"
     ]
    }
   ],
   "source": [
    "mylist = []\n",
    "for i in range(5):\n",
    "    val = input(\"Enter your value:\")\n",
    "    mylist.append(val)\n",
    "print(\"The given value in list is: \")\n",
    "print(mylist)"
   ]
  },
  {
   "cell_type": "markdown",
   "id": "bb8acd3c",
   "metadata": {},
   "source": [
    "### __Activity 2:__  \n",
    "\n",
    "Repeat the above code by accepting 5 integer values from  user. Store these  \n",
    "values in a list and display the sum of given values. "
   ]
  },
  {
   "cell_type": "code",
   "execution_count": 6,
   "id": "2e2a307d",
   "metadata": {},
   "outputs": [
    {
     "name": "stdout",
     "output_type": "stream",
     "text": [
      "Enter your value: 2\n",
      "Enter your value: 2\n",
      "Enter your value: 2\n",
      "Enter your value: 2\n",
      "Enter your value: 2\n",
      "10\n"
     ]
    }
   ],
   "source": [
    "mylist = []\n",
    "sum = 0\n",
    "for i in range(5):\n",
    "    mylist.append(int(input(\"Enter your value: \")))\n",
    "    sum = sum + mylist[i]\n",
    "print(sum)\n",
    "\n"
   ]
  },
  {
   "cell_type": "markdown",
   "id": "d272eebc",
   "metadata": {},
   "source": [
    "### __Experiment:__  \n",
    "\n",
    "Accept 5 int values from  user. Store in list, get value to find duplicate elem  \n",
    "and print index if found that element from list."
   ]
  },
  {
   "cell_type": "code",
   "execution_count": 9,
   "id": "272574ad",
   "metadata": {},
   "outputs": [
    {
     "name": "stdout",
     "output_type": "stream",
     "text": [
      "Enter your value: 1\n",
      "Enter your value: 2\n",
      "Enter your value: 3\n",
      "Enter your value: 4\n",
      "Enter your value: 5\n",
      "Enter you value to find: 5\n",
      "\n",
      "Value is found at index: 4\n"
     ]
    }
   ],
   "source": [
    "mylist = []\n",
    "result = 0\n",
    "for i in range(5):\n",
    "    mylist.append(int(input(\"Enter your value: \")))\n",
    "\n",
    "val = int(input(\"Enter you value to find: \"))\n",
    "for i in range(0, len(mylist)):\n",
    "    if mylist[i] == val:\n",
    "        print(\"\\nValue is found at index: \" + str(i))\n",
    "        result = i\n",
    "        break\n",
    "    else:\n",
    "        result = -1\n",
    "        \n",
    "if result == -1:\n",
    "    print(\"Value not found\")"
   ]
  },
  {
   "cell_type": "markdown",
   "id": "2b037f68",
   "metadata": {},
   "source": [
    "### __Activity 3:__  \n",
    "\n",
    "Accept 5 integer values from user. Store these values in  \n",
    "a list and display the list in ascending order."
   ]
  },
  {
   "cell_type": "code",
   "execution_count": 11,
   "id": "0d25bf3b",
   "metadata": {},
   "outputs": [
    {
     "name": "stdout",
     "output_type": "stream",
     "text": [
      "Enter your value: 1\n",
      "Enter your value: 2\n",
      "Enter your value: 3\n",
      "Enter your value: 4\n",
      "Enter your value: 5\n",
      "[1, 2, 3, 4, 5]\n"
     ]
    }
   ],
   "source": [
    "mylist = []\n",
    "for i in range(5):\n",
    "    mylist.append(int(input(\"Enter your value: \")))\n",
    "mylist.sort()\n",
    "print(mylist)"
   ]
  },
  {
   "cell_type": "markdown",
   "id": "c37b9ea8",
   "metadata": {},
   "source": [
    "### __Activity 4:__  \n",
    "\n",
    "Accept two lists from user and display their join."
   ]
  },
  {
   "cell_type": "code",
   "execution_count": 1,
   "id": "cccbb318",
   "metadata": {},
   "outputs": [
    {
     "name": "stdout",
     "output_type": "stream",
     "text": [
      "Enter value for 1 list: 1\n",
      "Enter value for 1 list: 2\n",
      "Enter value for 1 list: 3\n",
      "Enter value for 2 list: 4\n",
      "Enter value for 2 list: 5\n",
      "Enter value for 2 list: 6\n",
      "Combination of both list:  ['1', '2', '3', '4', '5', '6']\n"
     ]
    }
   ],
   "source": [
    "list1 = []\n",
    "list2 = []\n",
    "for i in range(3):\n",
    "    list1.append(input(\"Enter value for 1 list: \"))\n",
    "\n",
    "for i in range(3):\n",
    "    list2.append(input(\"Enter value for 2 list: \"))\n",
    "print(\"Combination of both list: \", list1+list2)\n",
    "    "
   ]
  },
  {
   "cell_type": "markdown",
   "id": "2ff63b3f",
   "metadata": {},
   "source": [
    "### __Activity 5:__  \n",
    "\n",
    "Write a Python code to accept a list from user and find a required element in it.  "
   ]
  },
  {
   "cell_type": "code",
   "execution_count": 12,
   "id": "d9497e60",
   "metadata": {},
   "outputs": [
    {
     "name": "stdout",
     "output_type": "stream",
     "text": [
      "Enter your value: 1\n",
      "Enter your value: 2\n",
      "Enter your value: 3\n",
      "Enter your value: 4\n",
      "Enter your value: 5\n",
      "Enter you value to find: 5\n",
      "\n",
      "Element has been found!\n"
     ]
    }
   ],
   "source": [
    "mylist = []\n",
    "for i in range(5):\n",
    "    mylist.append(int(input(\"Enter your value: \")))\n",
    "\n",
    "val = int(input(\"Enter you value to find: \"))\n",
    "if val in mylist:\n",
    "    print(\"\\nElement has been found!\")\n",
    "else:\n",
    "    print(\"\\nElement not found\")"
   ]
  },
  {
   "cell_type": "markdown",
   "id": "74d4e5e3",
   "metadata": {},
   "source": [
    "### __Activity 6:__  \n",
    "\n",
    "Write a function called say_hello that takes in a person’s name as a parameter.  \n",
    "The function should print a greeting message with the person’s name. Then call  \n",
    "the function three times with three different names."
   ]
  },
  {
   "cell_type": "code",
   "execution_count": 17,
   "id": "923ed78b",
   "metadata": {},
   "outputs": [
    {
     "name": "stdout",
     "output_type": "stream",
     "text": [
      "Enter your name: Hammad Rafique\n",
      "Welcome! Hammad Rafique, We're glad to see you\n",
      "\n",
      "Enter your name: M Nouman\n",
      "Welcome! M Nouman, We're glad to see you\n",
      "\n",
      "Enter your name: Umar Waseem\n",
      "Welcome! Umar Waseem, We're glad to see you\n",
      "\n"
     ]
    }
   ],
   "source": [
    "def name_generator(name):\n",
    "    print(\"Welcome! \" + name + \", We're glad to see you\\n\")\n",
    "\n",
    "for i in range(3):\n",
    "    name_generator(input(\"Enter your name: \"))\n"
   ]
  },
  {
   "cell_type": "markdown",
   "id": "50c21be0",
   "metadata": {},
   "source": [
    "### __Activity 7:__  \n",
    "\n",
    "A palindrome is a string which is same read forward or backwards. For example: “dad”  \n",
    "is the same in forward or reverse direction. Another example is “aibohphobia” which  \n",
    "literally means, an irritable fear of palindromes.\n",
    "\n",
    "Write a function in python that receives a string and returns True if that string is  \n",
    "a palindrome and False otherwise. Remember that difference between upper and lower case  \n",
    "characters are ignored during this determination."
   ]
  },
  {
   "cell_type": "code",
   "execution_count": 12,
   "id": "bd615e08",
   "metadata": {},
   "outputs": [
    {
     "name": "stdout",
     "output_type": "stream",
     "text": [
      "Enter your string: dad\n",
      "Given string is palindron! DAD\n"
     ]
    }
   ],
   "source": [
    "def palindron_verify_method1(value):\n",
    "    reverse = value[::-1]\n",
    "    if reverse == value:\n",
    "        print(\"Given string is palindron!\")\n",
    "    else:\n",
    "        print(\"Given string is not palindron!\")\n",
    "        \n",
    "value = input(\"Enter your string: \")\n",
    "palindron_verify_method1(value.upper())\n"
   ]
  },
  {
   "cell_type": "markdown",
   "id": "51b1bfb5",
   "metadata": {},
   "source": [
    "### __Activity 8:__  \n",
    "\n",
    "Imagine two matrices given in the form of 2D lists as under;  \n",
    "a = [[1, 0, 0], [0, 1, 0], [0, 0, 1] ]  \n",
    "b = [[1, 2, 3], [4, 5, 6], [7, 8, 9] ]  \n",
    "Write a python code that finds another matrix/2D list that is a product of and b, i.e.,"
   ]
  },
  {
   "cell_type": "code",
   "execution_count": 1,
   "id": "9c58b879",
   "metadata": {},
   "outputs": [
    {
     "name": "stdout",
     "output_type": "stream",
     "text": [
      "[[1, 4, 7], [2, 5, 8], [3, 6, 9]]\n"
     ]
    }
   ],
   "source": [
    "a = [[1, 0, 0], [0, 1, 0], [0, 0, 1] ]\n",
    "b = [[1, 2, 3], [4, 5, 6], [7, 8, 9] ]\n",
    "c = []\n",
    "\n",
    "for row in range(3):\n",
    "    c.append([])\n",
    "    for col in range(3):\n",
    "        c[row].append(0)\n",
    "        for ele in range(3):\n",
    "            c[row][col] += a[row][ele] * b[col][ele]\n",
    "print(c)\n",
    "            "
   ]
  },
  {
   "cell_type": "markdown",
   "id": "129a343b",
   "metadata": {},
   "source": [
    "### __Activity 9:__  \n",
    "\n",
    "A closed polygon with N sides can be represented as a list of tuples of N connected coordinates,\n",
    "\n",
    "i.e., [ (x1,y1), (x2,y2), (x3,y3), . . . , (xN,yN) ]. A sample polygon with 6 sides (N=6) is shown\n",
    "below."
   ]
  },
  {
   "cell_type": "code",
   "execution_count": 2,
   "id": "d4058f51",
   "metadata": {},
   "outputs": [
    {
     "name": "stdout",
     "output_type": "stream",
     "text": [
      "15.867444035869614\n"
     ]
    }
   ],
   "source": [
    "def perimeter(lst):\n",
    "    size = len(lst)\n",
    "    perimeter = 0\n",
    "    for i in range(0, size-1):\n",
    "        dist = (((lst[i][0]-lst[i+1][0])**2) + ((lst[i][1] - lst[i+1][1])**2)) ** 0.5\n",
    "        perimeter = perimeter + dist\n",
    "    perimeter = perimeter + (((lst[0][0] - lst[size-1][0])**2) + ((lst[0][1] - lst[size-1][1])**2))**0.5\n",
    "    return perimeter\n",
    "L = [(1,3), (2,7),(3,9),(-1,8)]\n",
    "print(perimeter(L))"
   ]
  },
  {
   "cell_type": "markdown",
   "id": "fb060160",
   "metadata": {},
   "source": [
    "#### Alternative Method:\n",
    "\n",
    "Performing all logic inside for loop. First assigning i to j var than assigning j=-1 after checking condition if j == size-1, because after we reached the end of list we start it from start which is 0 index."
   ]
  },
  {
   "cell_type": "code",
   "execution_count": 29,
   "id": "2ec33f37",
   "metadata": {},
   "outputs": [
    {
     "name": "stdout",
     "output_type": "stream",
     "text": [
      "15.867444035869614\n"
     ]
    }
   ],
   "source": [
    "def perimeter(lst):\n",
    "    size = len(lst)\n",
    "    per = 0\n",
    "    for i in range(size):\n",
    "        j = i\n",
    "        if j == size-1: j = -1\n",
    "        dst = (lst[i][0] - lst[j+1][0])**2 + (lst[i][1] - lst[j+1][1])**2\n",
    "        dst = dst ** 0.5\n",
    "        per = per + dst\n",
    "        \n",
    "    return per\n",
    "L = [(1,3), (2,7),(3,9),(-1,8)]\n",
    "print(perimeter(L))"
   ]
  },
  {
   "cell_type": "markdown",
   "id": "45065ad4",
   "metadata": {},
   "source": [
    "### __Activity 11:__  \n",
    "\n",
    "Python program to search a user phoe number using user name (first, last). In this program we are using dict of names, and phone numbers, where using first and last name as tuple for key + phone number for value."
   ]
  },
  {
   "cell_type": "code",
   "execution_count": 7,
   "id": "612a68b8",
   "metadata": {},
   "outputs": [
    {
     "name": "stdout",
     "output_type": "stream",
     "text": [
      "Enter first name: Hammad\n",
      "Enter last name: Rafique\n",
      "032469...\n"
     ]
    }
   ],
   "source": [
    "dic = {('Hammad', 'Rafique'): '032469...',\n",
    "        ('Nouman', 'Aslam'): '034587...',\n",
    "        ('Ahmad', 'Raza'): '032469...'}\n",
    "fname = input(\"Enter first name: \")\n",
    "lname = input(\"Enter last name: \")\n",
    "if (fname, lname) in dic.keys():\n",
    "    print(dic[(fname, lname)])"
   ]
  },
  {
   "cell_type": "markdown",
   "id": "0019e0a4",
   "metadata": {},
   "source": [
    "### __Experiment:__  \n",
    "BFS (Breath First Search) traverse."
   ]
  },
  {
   "cell_type": "code",
   "execution_count": 1,
   "id": "648b556e",
   "metadata": {},
   "outputs": [
    {
     "name": "stdout",
     "output_type": "stream",
     "text": [
      "['3', '7']\n"
     ]
    }
   ],
   "source": [
    "graph = {'5': ['3', '7'],\n",
    "         '3': ['2', '4'],\n",
    "         '7': ['8'],\n",
    "         '2': [],\n",
    "         '4': ['8'],\n",
    "         '8': []}\n",
    "\n",
    "visited = []\n",
    "queue = []\n",
    "print(graph['5'])\n",
    "\n",
    "def bfs(node, graph, queue):\n",
    "    visited.append(node)\n",
    "    queue.append(node)\n",
    "    m = queue.pop(0)\n",
    "    for child in graph[m].values():\n",
    "        queue.append(child)\n",
    "        \n",
    "        \n",
    "    "
   ]
  },
  {
   "cell_type": "markdown",
   "id": "30b9f1cf",
   "metadata": {},
   "source": [
    "### __Experiment:__  "
   ]
  },
  {
   "cell_type": "code",
   "execution_count": 10,
   "id": "95d51dab",
   "metadata": {},
   "outputs": [
    {
     "name": "stdout",
     "output_type": "stream",
     "text": [
      "Enter your value: 1\n",
      "Enter your value: 2\n",
      "Enter your value: 3\n",
      "Enter your value: 4\n",
      "Enter your value: 5\n",
      "\n",
      "Max value iin list: 5\n"
     ]
    }
   ],
   "source": [
    "mylist = []\n",
    "for i in range(5):\n",
    "    mylist.append(int(input(\"Enter your value: \")))\n",
    "print(\"\\nMax value iin list: \" + str(max(mylist)))"
   ]
  },
  {
   "cell_type": "markdown",
   "id": "2c8ecc93",
   "metadata": {},
   "source": []
  }
 ],
 "metadata": {
  "kernelspec": {
   "display_name": "Python 3 (ipykernel)",
   "language": "python",
   "name": "python3"
  },
  "language_info": {
   "codemirror_mode": {
    "name": "ipython",
    "version": 3
   },
   "file_extension": ".py",
   "mimetype": "text/x-python",
   "name": "python",
   "nbconvert_exporter": "python",
   "pygments_lexer": "ipython3",
   "version": "3.10.6"
  }
 },
 "nbformat": 4,
 "nbformat_minor": 5
}
