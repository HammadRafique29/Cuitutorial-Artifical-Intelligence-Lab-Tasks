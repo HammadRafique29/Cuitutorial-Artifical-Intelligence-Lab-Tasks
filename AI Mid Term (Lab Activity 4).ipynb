{
 "cells": [
  {
   "cell_type": "markdown",
   "id": "240f155b",
   "metadata": {},
   "source": [
    "### __Activity 1:__\n",
    "Consider a toy problem that can be represented as a following graph. How would you represent this graph in python?"
   ]
  },
  {
   "cell_type": "code",
   "execution_count": 66,
   "id": "ea43bd01",
   "metadata": {},
   "outputs": [],
   "source": [
    "class node:\n",
    "  def __init__(self,state,parent,actions,totalcost):\n",
    "    self.state = state\n",
    "    self.parent = parent\n",
    "    self.actions = actions\n",
    "    self.totalcost = totalcost\n",
    "    \n",
    "graph = {'A': node('A',None,['B','C','E'],None),\n",
    "           'B': node('B',None,['A','D','E'],None),\n",
    "           'C': node('C',None,['A','F','G'],None),\n",
    "           'D': node('D',None,['B','E'],None),\n",
    "           'E': node('E',None,['A','B','D'],None),\n",
    "           'F': node('F',None,['C'],None),\n",
    "           'G': node('G',None,['C'],None)\n",
    "          }\n"
   ]
  },
  {
   "cell_type": "markdown",
   "id": "e1df96d6",
   "metadata": {},
   "source": [
    "### __Activity 2:__\n",
    "For the graph in previous activity, imagine node A as starting node and your goal is to reach F. Keeping depth first search in mind, describe a sequence of actions that you must take to reach that goal state."
   ]
  },
  {
   "cell_type": "code",
   "execution_count": 61,
   "id": "bdd173b6",
   "metadata": {},
   "outputs": [
    {
     "name": "stdout",
     "output_type": "stream",
     "text": [
      "['A', 'E', 'D']\n"
     ]
    }
   ],
   "source": [
    "class Node:\n",
    "    def __init__(self, state, parent, adjacentNodes, cost):\n",
    "        self.state = state\n",
    "        self.parent = parent\n",
    "        self.adjacentNodes = adjacentNodes\n",
    "        self.totalCost = cost\n",
    "\n",
    "def actionSequence(graph, initialNode, goalNode):\n",
    "    solution = [goalNode]\n",
    "    currentParent = graph[goalNode].parent\n",
    "    while currentParent is not None:\n",
    "        solution.append(currentParent)\n",
    "        currentParent = graph[currentParent].parent\n",
    "    solution.reverse()\n",
    "    return solution\n",
    "\n",
    "def DFS():\n",
    "    initialState = 'A'\n",
    "    goalState = 'D'\n",
    "    graph = {\n",
    "        'A': Node('A', None, ['B', 'C', 'E'], None),\n",
    "        'B': Node('B', None, ['A', 'D', 'E'], None),\n",
    "        'C': Node('C', None, ['A', 'F', 'G'], None),\n",
    "        'D': Node('D', None, ['B', 'E'], None),\n",
    "        'E': Node('E', None, ['A', 'B', 'D'], None),\n",
    "        'F': Node('F', None, ['C'], None),\n",
    "        'G': Node('G', None, ['C'], None)\n",
    "    }\n",
    "    stack = [initialState]\n",
    "    visited = []\n",
    "    while len(stack) != 0:\n",
    "        currentNode = stack.pop(len(stack)-1)\n",
    "        visited.append(currentNode)\n",
    "        for child in graph[currentNode].adjacentNodes:\n",
    "            if child not in stack and child not in visited:\n",
    "                graph[child].parent = currentNode\n",
    "                if graph[child].state == goalState:\n",
    "                    return actionSequence(graph, initialState, goalState)\n",
    "                stack.append(child)\n",
    "\n",
    "print(DFS())"
   ]
  },
  {
   "cell_type": "markdown",
   "id": "ff03bc9e",
   "metadata": {},
   "source": [
    "### __Activity 3:__\n",
    "Change initial state to D and set goal state as C. What will be resulting path of BFS search? What will be the sequence of nodes explored?"
   ]
  },
  {
   "cell_type": "code",
   "execution_count": 62,
   "id": "83c0494f",
   "metadata": {},
   "outputs": [
    {
     "name": "stdout",
     "output_type": "stream",
     "text": [
      "['D', 'E', 'A', 'C']\n"
     ]
    }
   ],
   "source": [
    "class Node:\n",
    "    def __init__(self, state, parent, adjacentNodes, cost):\n",
    "        self.state = state\n",
    "        self.parent = parent\n",
    "        self.adjacentNodes = adjacentNodes\n",
    "        self.totalCost = cost\n",
    "\n",
    "def actionSequence(graph, initialNode, goalNode):\n",
    "    solution = [goalNode]\n",
    "    currentParent = graph[goalNode].parent\n",
    "    while currentParent is not None:\n",
    "        solution.append(currentParent)\n",
    "        currentParent = graph[currentParent].parent\n",
    "    solution.reverse()\n",
    "    return solution\n",
    "\n",
    "def DFS():\n",
    "    initialState = 'D'\n",
    "    goalState = 'C'\n",
    "    graph = {\n",
    "        'A': Node('A', None, ['B', 'C', 'E'], None),\n",
    "        'B': Node('B', None, ['A', 'D', 'E'], None),\n",
    "        'C': Node('C', None, ['A', 'F', 'G'], None),\n",
    "        'D': Node('D', None, ['B', 'E'], None),\n",
    "        'E': Node('E', None, ['A', 'B', 'D'], None),\n",
    "        'F': Node('F', None, ['C'], None),\n",
    "        'G': Node('G', None, ['C'], None)\n",
    "    }\n",
    "    stack = [initialState]\n",
    "    visited = []\n",
    "    while len(stack) != 0:\n",
    "        currentNode = stack.pop(len(stack)-1)\n",
    "        visited.append(currentNode)\n",
    "        for child in graph[currentNode].adjacentNodes:\n",
    "            if child not in stack and child not in visited:\n",
    "                graph[child].parent = currentNode\n",
    "                if graph[child].state == goalState:\n",
    "                    return actionSequence(graph, initialState, goalState)\n",
    "                stack.append(child)\n",
    "\n",
    "print(DFS())"
   ]
  },
  {
   "cell_type": "markdown",
   "id": "70f04e10",
   "metadata": {},
   "source": [
    "### __Activity 4:__\n",
    "Change initial state to D and set goal state as C. What will be resulting path of BFS search? What will be the sequence of nodes explored?"
   ]
  },
  {
   "cell_type": "code",
   "execution_count": 63,
   "id": "01734b5d",
   "metadata": {},
   "outputs": [
    {
     "name": "stdout",
     "output_type": "stream",
     "text": [
      "['C', 'F', 'D', 'B']\n"
     ]
    }
   ],
   "source": [
    "import math\n",
    "\n",
    "class Node:\n",
    "    def __init__(self, state, parent, adjacentNodes, cost):\n",
    "        self.state = state\n",
    "        self.parent = parent\n",
    "        self.adjacentNodes = adjacentNodes\n",
    "        self.totalCost = cost\n",
    "\n",
    "        \n",
    "def findMin(frontier):\n",
    "    minV = math.inf\n",
    "    node = ''\n",
    "    for i in frontier:\n",
    "        if minV>frontier[i][1]:\n",
    "            minV = frontier[i][1]\n",
    "            node = i\n",
    "    return node\n",
    "\n",
    "def actionSequence(graph, initialNode, goalNode):\n",
    "    solution = [goalNode]\n",
    "    currentParent = graph[goalNode].parent\n",
    "    while currentParent is not None:\n",
    "        solution.append(currentParent)\n",
    "        currentParent = graph[currentParent].parent\n",
    "    solution.reverse()\n",
    "    return solution\n",
    "\n",
    "\n",
    "\n",
    "\n",
    "def UCS():\n",
    "    initialNode = 'C'\n",
    "    goalNode = 'B'\n",
    "    \n",
    "    graph = {\n",
    "        'A': Node('A', None, [('B', 6), ('C', 9), ('E', 1)], 0),\n",
    "        'B': Node('B', None, [('A', 6), ('D', 3), ('E', 4)], 0),\n",
    "        'C': Node('C', None, [('A', 9), ('F', 2), ('G', 3)], 0),\n",
    "        'D': Node('D', None, [('B', 3), ('E', 5), ('F', 7)], 0),\n",
    "        'E': Node('E', None, [('A', 1), ('B', 4), ('D', 5), ('F', 6)], 0),\n",
    "        'F': Node('F', None, [('C', 2), ('E', 6), ('D', 7)], 0),\n",
    "        'G': Node('G', None, [('C', 3)], 0)\n",
    "    }\n",
    "    \n",
    "    frontier = dict()\n",
    "    frontier[initialNode] = (None, 0)\n",
    "    explored = []\n",
    "    \n",
    "    while len(frontier)!=0:\n",
    "        currentNode = findMin(frontier)\n",
    "        del frontier[currentNode]\n",
    "        if graph[currentNode].state == goalNode:\n",
    "            return actionSequence(graph, initialNode, goalNode)\n",
    "        explored.append(currentNode)\n",
    "        for child in graph[currentNode].adjacentNodes:\n",
    "            currentCost = child[1] + graph[currentNode].totalCost\n",
    "            if child[0] not in frontier and child[0] not in explored:\n",
    "                graph[child[0]].parent = currentNode\n",
    "                graph[child[0]].totalCost = currentCost\n",
    "                frontier[child[0]] = (graph[child[0]].parent, graph[child[0]].totalCost)\n",
    "            elif child[0] in frontier:\n",
    "                if frontier[child[0]][1] < currentCost:\n",
    "                    graph[child[0]].parent=frontier[child[0]][0]\n",
    "                    graph[child[0]].totalCost = frontier[child[0]][1]\n",
    "                else:\n",
    "                    frontier[child[0]] = (currentNode, currentCost)\n",
    "                    graph[child[0]].parent = frontier[child[0]][0]\n",
    "                    graph[child[0]].totalCost = frontier[child[0]][1]\n",
    "print(UCS())\n"
   ]
  },
  {
   "cell_type": "markdown",
   "id": "11fd3314",
   "metadata": {},
   "source": [
    "### __Activity 5:__\n",
    "Imagine going from Arad to Bucharest in the following map. Your goal is to minimize the distance mentioned in the map during your travel. Implement a uniform cost search to find the corresponding path."
   ]
  },
  {
   "cell_type": "code",
   "execution_count": 74,
   "id": "b7424d53",
   "metadata": {},
   "outputs": [
    {
     "name": "stdout",
     "output_type": "stream",
     "text": [
      "['arad', 'sibiu', 'rimnicu vilcea', 'pitesti', 'bucharest']\n"
     ]
    }
   ],
   "source": [
    "class Node:\n",
    "  def __init__(self,state,parent,actions,totalcost):\n",
    "    self.state=state\n",
    "    self.parent=parent\n",
    "    self.actions=actions\n",
    "    self.totalcost=totalcost\n",
    "    \n",
    "graph={'arad':Node('arad',None,['zernid','timisoara','sibiu'],None),\n",
    "       'timisoara':Node('timisoara',None,['lugoj','arad'],None),\n",
    "       'zernid':Node('zernid',None,['arad','oradea'],None),\n",
    "       'sibiu':Node('sibiu',None,['arad','oradea','fagaras','rimnicu vilcea'],None),\n",
    "       'lugoj':Node('lugoj',None,['mehadia','timisoara'],None),\n",
    "       'oradea':Node('oradea',None,['zernid','sibiu'],None),\n",
    "       'mehadia':Node('mehadia',None,['lugoj','drobeta'],None),\n",
    "       'drobeta':Node('drobeta',None,['mehadia','craiova'],None),\n",
    "       'craiova':Node('craiova',None,['drobeta','pitesti','rimnicu vilcea'],None),\n",
    "       'rimnicu vilcea':Node('rimnicu vilcea',None,['craiova','pitesti','sibiu'],None),\n",
    "       'pitesti':Node('pitesti',None,['craiova','rimnicu vilcea','bucharest'],None),\n",
    "       'fagaras':Node('fagaras',None,['sibiu','bucharest'],None),\n",
    "       'bucharest':Node('bucharest',None,['fagaras','pitesti','giurgiu','urziceni'],None),\n",
    "       'giurgiu':Node('giurgiu',None,['bucharest'],None),\n",
    "       'urziceni':Node('urziceni',None,['bucharest','hirsova','vaslui'],None),\n",
    "       'hirsova':Node('hirsova',None,['urziceni','eforie'],None),\n",
    "       'eforie':Node('eforie',None,['hirsova'],None),\n",
    "       'vaslui':Node('vaslui',None,['urziceni','lasi'],None),\n",
    "       'lasi':Node('lasi',None,['vaslui','neamt'],None),\n",
    "       'neamt':Node('neamt',None,['lasi'],None),\n",
    "}\n",
    " \n",
    "def actionsequence(graph, initialstate,goalstate):\n",
    "  solution=[goalstate]\n",
    "  currentparent = graph[goalstate].parent\n",
    "  while currentparent != None:\n",
    "    solution.append(currentparent)\n",
    "    currentparent = graph[currentparent].parent\n",
    "  solution.reverse()\n",
    "  print(solution)\n",
    "  return solution\n",
    "\n",
    "def BFS():\n",
    "  initialstate = 'arad'\n",
    "  goalstate = 'bucharest'\n",
    "  frontier = [initialstate]\n",
    "  explored = []\n",
    "\n",
    "  while len(frontier)!=0:\n",
    "    currentNode = frontier.pop(len(frontier)-1)\n",
    "    explored.append(currentNode)\n",
    "    for child in graph[currentNode].actions:\n",
    "        if child not in frontier and child not in explored:\n",
    "            graph[child].parent = currentNode\n",
    "            if graph[child].state == goalstate:\n",
    "                  return actionsequence(graph,initialstate,goalstate)\n",
    "            frontier.append(child)\n",
    "solution = BFS()"
   ]
  },
  {
   "cell_type": "code",
   "execution_count": null,
   "id": "7691131a",
   "metadata": {},
   "outputs": [],
   "source": []
  },
  {
   "cell_type": "code",
   "execution_count": null,
   "id": "c5cef7f9",
   "metadata": {},
   "outputs": [],
   "source": []
  }
 ],
 "metadata": {
  "kernelspec": {
   "display_name": "Python 3 (ipykernel)",
   "language": "python",
   "name": "python3"
  },
  "language_info": {
   "codemirror_mode": {
    "name": "ipython",
    "version": 3
   },
   "file_extension": ".py",
   "mimetype": "text/x-python",
   "name": "python",
   "nbconvert_exporter": "python",
   "pygments_lexer": "ipython3",
   "version": "3.11.3"
  }
 },
 "nbformat": 4,
 "nbformat_minor": 5
}
