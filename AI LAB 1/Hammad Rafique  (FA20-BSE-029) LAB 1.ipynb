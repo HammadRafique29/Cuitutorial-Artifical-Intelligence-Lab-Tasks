{
 "cells": [
  {
   "cell_type": "markdown",
   "id": "837aef13",
   "metadata": {},
   "source": [
    "__Name:__   Hammad Rafique  \n",
    "__Reg no:__ FA20-BSE-029  \n",
    "__Subject:__ Artifical Intelligence"
   ]
  },
  {
   "cell_type": "markdown",
   "id": "61fb4cba",
   "metadata": {},
   "source": [
    "### ---------------------------------------------------\n",
    "__Activity 1:__ Display numbers on screen\n",
    "### ---------------------------------------------------"
   ]
  },
  {
   "cell_type": "code",
   "execution_count": 1,
   "id": "59991dd1",
   "metadata": {},
   "outputs": [
    {
     "data": {
      "text/plain": [
       "24"
      ]
     },
     "execution_count": 1,
     "metadata": {},
     "output_type": "execute_result"
    }
   ],
   "source": [
    "24"
   ]
  },
  {
   "cell_type": "code",
   "execution_count": 2,
   "id": "1e2c098b",
   "metadata": {},
   "outputs": [
    {
     "data": {
      "text/plain": [
       "4.2"
      ]
     },
     "execution_count": 2,
     "metadata": {},
     "output_type": "execute_result"
    }
   ],
   "source": [
    "4.2\n"
   ]
  },
  {
   "cell_type": "code",
   "execution_count": 3,
   "id": "ba5f253d",
   "metadata": {},
   "outputs": [
    {
     "name": "stdout",
     "output_type": "stream",
     "text": [
      "25\n"
     ]
    }
   ],
   "source": [
    "print(25)"
   ]
  },
  {
   "cell_type": "code",
   "execution_count": 4,
   "id": "cbbf72a3",
   "metadata": {},
   "outputs": [
    {
     "name": "stdout",
     "output_type": "stream",
     "text": [
      "25.5\n"
     ]
    }
   ],
   "source": [
    "print(25.5)"
   ]
  },
  {
   "cell_type": "markdown",
   "id": "51ff82ba",
   "metadata": {},
   "source": [
    "### ---------------------------------------------------\n",
    "__Activity 2:__ Display strings on screen.  \n",
    "### ---------------------------------------------------"
   ]
  },
  {
   "cell_type": "code",
   "execution_count": 6,
   "id": "72c17438",
   "metadata": {},
   "outputs": [
    {
     "data": {
      "text/plain": [
       "'Hello'"
      ]
     },
     "execution_count": 6,
     "metadata": {},
     "output_type": "execute_result"
    }
   ],
   "source": [
    "'Hello'"
   ]
  },
  {
   "cell_type": "code",
   "execution_count": 7,
   "id": "f44683b7",
   "metadata": {},
   "outputs": [
    {
     "data": {
      "text/plain": [
       "'Quote me on this!'"
      ]
     },
     "execution_count": 7,
     "metadata": {},
     "output_type": "execute_result"
    }
   ],
   "source": [
    "'Quote me on this!'"
   ]
  },
  {
   "cell_type": "code",
   "execution_count": 8,
   "id": "1a4d0aae",
   "metadata": {},
   "outputs": [
    {
     "data": {
      "text/plain": [
       "'Whats your name?'"
      ]
     },
     "execution_count": 8,
     "metadata": {},
     "output_type": "execute_result"
    }
   ],
   "source": [
    "\"Whats your name?\""
   ]
  },
  {
   "cell_type": "markdown",
   "id": "4a336d7b",
   "metadata": {},
   "source": [
    "### ---------------------------------------------------\n",
    "__Activity 3:__ Use Python as a calculator.  \n",
    "### ---------------------------------------------------"
   ]
  },
  {
   "cell_type": "code",
   "execution_count": 9,
   "id": "bb3d551e",
   "metadata": {},
   "outputs": [
    {
     "data": {
      "text/plain": [
       "4"
      ]
     },
     "execution_count": 9,
     "metadata": {},
     "output_type": "execute_result"
    }
   ],
   "source": [
    "2+2"
   ]
  },
  {
   "cell_type": "code",
   "execution_count": 10,
   "id": "6144e056",
   "metadata": {},
   "outputs": [
    {
     "data": {
      "text/plain": [
       "21.5"
      ]
     },
     "execution_count": 10,
     "metadata": {},
     "output_type": "execute_result"
    }
   ],
   "source": [
    "23.5-2.0"
   ]
  },
  {
   "cell_type": "code",
   "execution_count": 11,
   "id": "7852e60d",
   "metadata": {},
   "outputs": [
    {
     "data": {
      "text/plain": [
       "4.5"
      ]
     },
     "execution_count": 11,
     "metadata": {},
     "output_type": "execute_result"
    }
   ],
   "source": [
    "23-18.5"
   ]
  },
  {
   "cell_type": "code",
   "execution_count": 12,
   "id": "b9432bb8",
   "metadata": {},
   "outputs": [
    {
     "data": {
      "text/plain": [
       "30"
      ]
     },
     "execution_count": 12,
     "metadata": {},
     "output_type": "execute_result"
    }
   ],
   "source": [
    "5*6"
   ]
  },
  {
   "cell_type": "code",
   "execution_count": 13,
   "id": "98fadb4a",
   "metadata": {},
   "outputs": [
    {
     "data": {
      "text/plain": [
       "25.0"
      ]
     },
     "execution_count": 13,
     "metadata": {},
     "output_type": "execute_result"
    }
   ],
   "source": [
    "2.5*10"
   ]
  },
  {
   "cell_type": "code",
   "execution_count": 14,
   "id": "283889eb",
   "metadata": {},
   "outputs": [
    {
     "data": {
      "text/plain": [
       "6.25"
      ]
     },
     "execution_count": 14,
     "metadata": {},
     "output_type": "execute_result"
    }
   ],
   "source": [
    "2.5*2.5"
   ]
  },
  {
   "cell_type": "code",
   "execution_count": 15,
   "id": "252c11ce",
   "metadata": {},
   "outputs": [
    {
     "data": {
      "text/plain": [
       "7.0"
      ]
     },
     "execution_count": 15,
     "metadata": {},
     "output_type": "execute_result"
    }
   ],
   "source": [
    "28/4\n"
   ]
  },
  {
   "cell_type": "code",
   "execution_count": 16,
   "id": "0c753c17",
   "metadata": {},
   "outputs": [
    {
     "data": {
      "text/plain": [
       "6.5"
      ]
     },
     "execution_count": 16,
     "metadata": {},
     "output_type": "execute_result"
    }
   ],
   "source": [
    "26/4"
   ]
  },
  {
   "cell_type": "code",
   "execution_count": 17,
   "id": "623e6fcd",
   "metadata": {},
   "outputs": [
    {
     "data": {
      "text/plain": [
       "7.548387096774193"
      ]
     },
     "execution_count": 17,
     "metadata": {},
     "output_type": "execute_result"
    }
   ],
   "source": [
    "23.4/3.1"
   ]
  },
  {
   "cell_type": "markdown",
   "id": "d7b169c7",
   "metadata": {},
   "source": [
    "### ---------------------------------------------------\n",
    "__Activity 4:__ Get an integer answer from division operation. Also get remainder of a division operation in the output. \n",
    "### ---------------------------------------------------\n"
   ]
  },
  {
   "cell_type": "code",
   "execution_count": 18,
   "id": "0763a6d9",
   "metadata": {},
   "outputs": [
    {
     "data": {
      "text/plain": [
       "7"
      ]
     },
     "execution_count": 18,
     "metadata": {},
     "output_type": "execute_result"
    }
   ],
   "source": [
    "28//4"
   ]
  },
  {
   "cell_type": "code",
   "execution_count": 19,
   "id": "ce6a099f",
   "metadata": {},
   "outputs": [
    {
     "data": {
      "text/plain": [
       "6"
      ]
     },
     "execution_count": 19,
     "metadata": {},
     "output_type": "execute_result"
    }
   ],
   "source": [
    "26//4"
   ]
  },
  {
   "cell_type": "code",
   "execution_count": 20,
   "id": "a00e68d3",
   "metadata": {},
   "outputs": [
    {
     "data": {
      "text/plain": [
       "7.0"
      ]
     },
     "execution_count": 20,
     "metadata": {},
     "output_type": "execute_result"
    }
   ],
   "source": [
    "28/4"
   ]
  },
  {
   "cell_type": "code",
   "execution_count": 21,
   "id": "e37dc62a",
   "metadata": {},
   "outputs": [
    {
     "data": {
      "text/plain": [
       "6.5"
      ]
     },
     "execution_count": 21,
     "metadata": {},
     "output_type": "execute_result"
    }
   ],
   "source": [
    "26/4"
   ]
  },
  {
   "cell_type": "code",
   "execution_count": 22,
   "id": "b9ddffab",
   "metadata": {},
   "outputs": [
    {
     "data": {
      "text/plain": [
       "6"
      ]
     },
     "execution_count": 22,
     "metadata": {},
     "output_type": "execute_result"
    }
   ],
   "source": [
    "int(26/4)"
   ]
  },
  {
   "cell_type": "code",
   "execution_count": 23,
   "id": "d631aff8",
   "metadata": {},
   "outputs": [
    {
     "data": {
      "text/plain": [
       "6"
      ]
     },
     "execution_count": 23,
     "metadata": {},
     "output_type": "execute_result"
    }
   ],
   "source": [
    "int(26/4)"
   ]
  },
  {
   "cell_type": "code",
   "execution_count": 24,
   "id": "e01f267e",
   "metadata": {},
   "outputs": [
    {
     "data": {
      "text/plain": [
       "7"
      ]
     },
     "execution_count": 24,
     "metadata": {},
     "output_type": "execute_result"
    }
   ],
   "source": [
    "int(28/4)"
   ]
  },
  {
   "cell_type": "code",
   "execution_count": 25,
   "id": "c9b4d0d6",
   "metadata": {},
   "outputs": [
    {
     "data": {
      "text/plain": [
       "0"
      ]
     },
     "execution_count": 25,
     "metadata": {},
     "output_type": "execute_result"
    }
   ],
   "source": [
    "28%4"
   ]
  },
  {
   "cell_type": "code",
   "execution_count": 26,
   "id": "abb979c8",
   "metadata": {},
   "outputs": [
    {
     "data": {
      "text/plain": [
       "2"
      ]
     },
     "execution_count": 26,
     "metadata": {},
     "output_type": "execute_result"
    }
   ],
   "source": [
    "26%4"
   ]
  },
  {
   "cell_type": "markdown",
   "id": "4654d0e7",
   "metadata": {},
   "source": [
    "### ---------------------------------------------------\n",
    "__Activity 5:__ Calculate 43, 410, 429, 4150, 41000  \n",
    "### ---------------------------------------------------\n"
   ]
  },
  {
   "cell_type": "code",
   "execution_count": 27,
   "id": "d7c17db5",
   "metadata": {},
   "outputs": [
    {
     "data": {
      "text/plain": [
       "64"
      ]
     },
     "execution_count": 27,
     "metadata": {},
     "output_type": "execute_result"
    }
   ],
   "source": [
    "4**3"
   ]
  },
  {
   "cell_type": "code",
   "execution_count": 28,
   "id": "f34ea6cd",
   "metadata": {},
   "outputs": [
    {
     "data": {
      "text/plain": [
       "1048576"
      ]
     },
     "execution_count": 28,
     "metadata": {},
     "output_type": "execute_result"
    }
   ],
   "source": [
    "4**10"
   ]
  },
  {
   "cell_type": "code",
   "execution_count": 29,
   "id": "74991e59",
   "metadata": {},
   "outputs": [
    {
     "data": {
      "text/plain": [
       "288230376151711744"
      ]
     },
     "execution_count": 29,
     "metadata": {},
     "output_type": "execute_result"
    }
   ],
   "source": [
    "4**29"
   ]
  },
  {
   "cell_type": "code",
   "execution_count": 30,
   "id": "7f93e34e",
   "metadata": {},
   "outputs": [
    {
     "data": {
      "text/plain": [
       "2037035976334486086268445688409378161051468393665936250636140449354381299763336706183397376"
      ]
     },
     "execution_count": 30,
     "metadata": {},
     "output_type": "execute_result"
    }
   ],
   "source": [
    "4**150"
   ]
  },
  {
   "cell_type": "code",
   "execution_count": 31,
   "id": "5d453531",
   "metadata": {},
   "outputs": [
    {
     "data": {
      "text/plain": [
       "114813069527425452423283320117768198402231770208869520047764273682576626139237031385665948631650626991844596463898746277344711896086305533142593135616665318539129989145312280000688779148240044871428926990063486244781615463646388363947317026040466353970904996558162398808944629605623311649536164221970332681344168908984458505602379484807914058900934776500429002716706625830522008132236281291761267883317206598995396418127021779858404042159853183251540889433902091920554957783589672039160081957216630582755380425583726015528348786419432054508915275783882625175435528800822842770817965453762184851149029376"
      ]
     },
     "execution_count": 31,
     "metadata": {},
     "output_type": "execute_result"
    }
   ],
   "source": [
    "4**1000"
   ]
  },
  {
   "cell_type": "markdown",
   "id": "4baaf7a1",
   "metadata": {},
   "source": [
    "### ---------------------------------------------------\n",
    "__Activity 6:__ Write following math expressions. Solve them by hand using operators’ precedence.\n",
    "Calculate their answers using Python. Match the results  \n",
    "### ---------------------------------------------------\n"
   ]
  },
  {
   "cell_type": "code",
   "execution_count": 32,
   "id": "6eb6ac3f",
   "metadata": {},
   "outputs": [
    {
     "data": {
      "text/plain": [
       "20"
      ]
     },
     "execution_count": 32,
     "metadata": {},
     "output_type": "execute_result"
    }
   ],
   "source": [
    "2+3*6"
   ]
  },
  {
   "cell_type": "code",
   "execution_count": 33,
   "id": "e744df42",
   "metadata": {},
   "outputs": [
    {
     "data": {
      "text/plain": [
       "30"
      ]
     },
     "execution_count": 33,
     "metadata": {},
     "output_type": "execute_result"
    }
   ],
   "source": [
    "(2+3)*6"
   ]
  },
  {
   "cell_type": "code",
   "execution_count": 34,
   "id": "c9bfc15c",
   "metadata": {},
   "outputs": [
    {
     "data": {
      "text/plain": [
       "28093077826734"
      ]
     },
     "execution_count": 34,
     "metadata": {},
     "output_type": "execute_result"
    }
   ],
   "source": [
    "48565878 * 578453"
   ]
  },
  {
   "cell_type": "code",
   "execution_count": 35,
   "id": "0e30c58f",
   "metadata": {},
   "outputs": [
    {
     "data": {
      "text/plain": [
       "4"
      ]
     },
     "execution_count": 35,
     "metadata": {},
     "output_type": "execute_result"
    }
   ],
   "source": [
    "2 + 2"
   ]
  },
  {
   "cell_type": "code",
   "execution_count": 36,
   "id": "934bcee2",
   "metadata": {},
   "outputs": [
    {
     "data": {
      "text/plain": [
       "16.0"
      ]
     },
     "execution_count": 36,
     "metadata": {},
     "output_type": "execute_result"
    }
   ],
   "source": [
    "(5 - 1) * ((7 + 1) / (3 - 1))"
   ]
  },
  {
   "cell_type": "code",
   "execution_count": 37,
   "id": "ab0a6c70",
   "metadata": {},
   "outputs": [
    {
     "data": {
      "text/plain": [
       "12"
      ]
     },
     "execution_count": 37,
     "metadata": {},
     "output_type": "execute_result"
    }
   ],
   "source": [
    "5 +7"
   ]
  },
  {
   "cell_type": "code",
   "execution_count": 38,
   "id": "a0a541fa",
   "metadata": {},
   "outputs": [
    {
     "data": {
      "text/plain": [
       "67"
      ]
     },
     "execution_count": 38,
     "metadata": {},
     "output_type": "execute_result"
    }
   ],
   "source": [
    "42 + 5 ** 2"
   ]
  },
  {
   "cell_type": "markdown",
   "id": "bc9c3d57",
   "metadata": {},
   "source": [
    "### ---------------------------------------------------\n",
    "__Activity 7:__ Combine numbers and text.  \n",
    "### ---------------------------------------------------"
   ]
  },
  {
   "cell_type": "code",
   "execution_count": 39,
   "id": "762e1863",
   "metadata": {},
   "outputs": [
    {
     "name": "stdout",
     "output_type": "stream",
     "text": [
      "My lucky number is 7, what's your's?\n"
     ]
    }
   ],
   "source": [
    "x = \"Nancy\"\n",
    "s = \"My lucky number is %d, what's your's?\"%7\n",
    "print(s)\n",
    "#a = \"My lucky number is \" + str(7) + \", what's your's?\""
   ]
  },
  {
   "cell_type": "markdown",
   "id": "9be030aa",
   "metadata": {},
   "source": [
    "### ---------------------------------------------------\n",
    "__Activity 8:__ Take input from the keyboard and use it in your program  \n",
    "### ---------------------------------------------------"
   ]
  },
  {
   "cell_type": "code",
   "execution_count": 40,
   "id": "70e79b30",
   "metadata": {},
   "outputs": [
    {
     "name": "stdout",
     "output_type": "stream",
     "text": [
      "what is your name? Hammad Rafique\n",
      "What is your job? Software Engineer\n",
      "Give me a number? 029\n",
      "\n",
      "Hello Hammad Rafique\n",
      "Your job is Software Engineer\n",
      "Your entered number is 029\n"
     ]
    }
   ],
   "source": [
    "name = input(\"what is your name? \")\n",
    "job = input(\"What is your job? \")\n",
    "num = input(\"Give me a number? \")\n",
    "print(\"\\nHello \" + name)\n",
    "print(\"Your job is \" + job)\n",
    "print(\"Your entered number is \" + num)"
   ]
  },
  {
   "cell_type": "markdown",
   "id": "2c965fdf",
   "metadata": {},
   "source": [
    "### ---------------------------------------------------\n",
    "__Activity 9:__ Let us take an integer from user as input and check whether the given value is even or not.  \n",
    "### ---------------------------------------------------"
   ]
  },
  {
   "cell_type": "code",
   "execution_count": 42,
   "id": "960c0dc8",
   "metadata": {},
   "outputs": [
    {
     "name": "stdout",
     "output_type": "stream",
     "text": [
      "Enter your number: 029\n"
     ]
    }
   ],
   "source": [
    "num = input(\"Enter your number: \")\n",
    "if int(num)%2 == 0:\n",
    "    print(\"Number is Even: \" + str(num))"
   ]
  },
  {
   "cell_type": "markdown",
   "id": "0171a538",
   "metadata": {},
   "source": [
    "### ---------------------------------------------------\n",
    "__Activity 10:__ Let us modify the code to take an integer from user as input and check whether the given value is even or odd. If the given value is not even then it means that it will be odd. So here we need to use if-else statement an demonstrated below  \n",
    "### ---------------------------------------------------"
   ]
  },
  {
   "cell_type": "code",
   "execution_count": 43,
   "id": "15533d65",
   "metadata": {},
   "outputs": [
    {
     "name": "stdout",
     "output_type": "stream",
     "text": [
      "Enter your number: 29\n",
      "Number is odd: 29\n"
     ]
    }
   ],
   "source": [
    "num = input(\"Enter your number: \")\n",
    "if int(num)%2 == 0:\n",
    "    print(\"Number is Even: \" + str(num))\n",
    "else:\n",
    "    print(\"Number is odd: \" + str(num))"
   ]
  },
  {
   "cell_type": "markdown",
   "id": "11c9a849",
   "metadata": {},
   "source": [
    "### ---------------------------------------------------\n",
    "__Activity 11:__ Calculate the sum of all the values between 0-10 using while loop.  \n",
    "### ---------------------------------------------------"
   ]
  },
  {
   "cell_type": "code",
   "execution_count": 44,
   "id": "e0542349",
   "metadata": {},
   "outputs": [
    {
     "name": "stdout",
     "output_type": "stream",
     "text": [
      "Sum: 2\n",
      "Sum: 3\n",
      "Sum: 4\n",
      "Sum: 5\n",
      "Sum: 6\n",
      "Sum: 7\n",
      "Sum: 8\n",
      "Sum: 9\n",
      "Sum: 10\n"
     ]
    }
   ],
   "source": [
    "sum = 0\n",
    "i = 1\n",
    "while i < 10:\n",
    "    sum = sum + i\n",
    "    i += 1\n",
    "    print(\"Sum: \" + str(i))"
   ]
  },
  {
   "cell_type": "markdown",
   "id": "c43fdc25",
   "metadata": {},
   "source": [
    "### ---------------------------------------------------\n",
    "__Activity 12:__ Accept 5 integer values from user and display their sum. Draw flowchart before coding in python.  \n",
    "### ---------------------------------------------------"
   ]
  },
  {
   "cell_type": "code",
   "execution_count": 45,
   "id": "24e7245f",
   "metadata": {},
   "outputs": [
    {
     "name": "stdout",
     "output_type": "stream",
     "text": [
      "Enter 1 value: 1\n",
      "1\n",
      "Enter 2 value: 2\n",
      "3\n",
      "Enter 3 value: 3\n",
      "6\n",
      "Enter 4 value: 4\n",
      "10\n"
     ]
    }
   ],
   "source": [
    "sum = 0\n",
    "for i in range(0, 4):\n",
    "    val = input(f\"Enter {str(i+1)} value: \")\n",
    "    sum = sum + int(val)\n",
    "    print(sum)"
   ]
  },
  {
   "cell_type": "markdown",
   "id": "6d739407",
   "metadata": {},
   "source": [
    "### ---------------------------------------------------\n",
    "__Activity 13:__ Write a Python code to keep accepting integer values from user until 0 is entered. Display sum of the given values. \n",
    "### ---------------------------------------------------"
   ]
  },
  {
   "cell_type": "code",
   "execution_count": 49,
   "id": "65ad3d45",
   "metadata": {},
   "outputs": [
    {
     "name": "stdout",
     "output_type": "stream",
     "text": [
      "Enter value: 1\n",
      "Enter value: 2\n",
      "Enter value: 3\n",
      "Enter value: 0\n",
      "6\n"
     ]
    }
   ],
   "source": [
    "sum = 0\n",
    "while True:\n",
    "    val = input(\"Enter value: \")\n",
    "    if val == \"0\":\n",
    "        break\n",
    "    else:\n",
    "        sum = sum + int(val)\n",
    "print(sum)"
   ]
  },
  {
   "cell_type": "markdown",
   "id": "4eb52efe",
   "metadata": {},
   "source": [
    "### ---------------------------------------------------\n",
    "__Activity 14:__ Write a Python code to accept an integer value from user and check that whether the given value is prime number or not.\n",
    "### ---------------------------------------------------"
   ]
  },
  {
   "cell_type": "code",
   "execution_count": 52,
   "id": "5a707c60",
   "metadata": {},
   "outputs": [
    {
     "name": "stdout",
     "output_type": "stream",
     "text": [
      "Enter your number: 17\n",
      "Number is prime: \n"
     ]
    }
   ],
   "source": [
    "isPrime = True\n",
    "i = 2\n",
    "n = int(input(\"Enter your number: \"))\n",
    "while i<n:\n",
    "    rem = n%i\n",
    "    if rem == 0:\n",
    "        isPrime = False\n",
    "        break\n",
    "    else:\n",
    "        i = i + 1\n",
    "if isPrime:\n",
    "    print(\"Number is prime: \")\n",
    "else:\n",
    "    print(\"Number is not prime: \")"
   ]
  },
  {
   "cell_type": "markdown",
   "id": "acc45a6f",
   "metadata": {},
   "source": [
    "### ---------------------------------------------------\n",
    "__Activity 15:__ Write a Python code to accept marks of a student from 1-100 and display the grade according to the following formula.  \n",
    "### ---------------------------------------------------"
   ]
  },
  {
   "cell_type": "code",
   "execution_count": 53,
   "id": "635a0942",
   "metadata": {},
   "outputs": [
    {
     "name": "stdout",
     "output_type": "stream",
     "text": [
      "Enter student 1 marks: 50\n",
      "Student have Achieved Grade E\n",
      "\n",
      "Enter student 2 marks: 80\n",
      "Student have Achieved Grade C\n",
      "\n",
      "Enter student 3 marks: 90\n",
      "Student have Achieved Grade B\n",
      "\n",
      "Enter student 4 marks: 30\n",
      "Student have Failed in Exams!\n",
      "\n",
      "Enter student 5 marks: 99\n",
      "Student have Achieved Grade A\n",
      "\n",
      "Enter student 6 marks: 68\n",
      "Student have Achieved Grade D\n",
      "\n"
     ]
    }
   ],
   "source": [
    "for i in range(1, 7):\n",
    "    marks = int(input(f\"Enter student {str(i)} marks: \"))\n",
    "    if marks >= 91:\n",
    "        print(\"Student have Achieved Grade A\\n\")\n",
    "    elif marks >= 81 and marks <= 90:\n",
    "        print(\"Student have Achieved Grade B\\n\")\n",
    "    elif marks >= 71 and marks <= 80:\n",
    "        print(\"Student have Achieved Grade C\\n\")\n",
    "    elif marks >= 61 and marks <= 70:\n",
    "        print(\"Student have Achieved Grade D\\n\")\n",
    "    elif marks >= 50 and marks <= 60:\n",
    "        print(\"Student have Achieved Grade E\\n\")\n",
    "    else:\n",
    "        print(\"Student have Failed in Exams!\\n\")"
   ]
  },
  {
   "cell_type": "markdown",
   "id": "da7d14ae",
   "metadata": {},
   "source": [
    "### ---------------------------------------------------\n",
    "__Activity 16:__ Write a program that takes a number from user and calculate the factorial of that number.  \n",
    "### ---------------------------------------------------"
   ]
  },
  {
   "cell_type": "code",
   "execution_count": 54,
   "id": "146947d8",
   "metadata": {},
   "outputs": [
    {
     "name": "stdout",
     "output_type": "stream",
     "text": [
      "Enter your number: 5\n",
      "Factorial of number is: 120\n"
     ]
    }
   ],
   "source": [
    "val = int(input(\"Enter your number: \"))\n",
    "fact = 1\n",
    "for i in range(1, val + 1):\n",
    "    fact = fact * i\n",
    "print(f\"Factorial of number is: {str(fact)}\")"
   ]
  },
  {
   "cell_type": "code",
   "execution_count": null,
   "id": "6e7350ad",
   "metadata": {},
   "outputs": [],
   "source": []
  },
  {
   "cell_type": "code",
   "execution_count": null,
   "id": "9036af0f",
   "metadata": {},
   "outputs": [],
   "source": []
  },
  {
   "cell_type": "code",
   "execution_count": null,
   "id": "a0dcdeb8",
   "metadata": {},
   "outputs": [],
   "source": []
  }
 ],
 "metadata": {
  "kernelspec": {
   "display_name": "Python 3 (ipykernel)",
   "language": "python",
   "name": "python3"
  },
  "language_info": {
   "codemirror_mode": {
    "name": "ipython",
    "version": 3
   },
   "file_extension": ".py",
   "mimetype": "text/x-python",
   "name": "python",
   "nbconvert_exporter": "python",
   "pygments_lexer": "ipython3",
   "version": "3.10.6"
  }
 },
 "nbformat": 4,
 "nbformat_minor": 5
}
