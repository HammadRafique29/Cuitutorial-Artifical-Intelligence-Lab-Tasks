{
 "cells": [
  {
   "cell_type": "code",
   "execution_count": 158,
   "id": "448b3352",
   "metadata": {},
   "outputs": [
    {
     "name": "stdout",
     "output_type": "stream",
     "text": [
      "Origin              True\n",
      "OriginCode         False\n",
      "Destination        False\n",
      "DestinationCode    False\n",
      "Country            False\n",
      "FLight_Path        False\n",
      "Flight_Time        False\n",
      "Departure Date     False\n",
      "Return Date        False\n",
      "Duration           False\n",
      "Stops              False\n",
      "Flight_Name        False\n",
      "Img_URL            False\n",
      "Price              False\n",
      "Origin_Loc         False\n",
      "Destination_Loc    False\n",
      "dtype: bool\n",
      "\n",
      " {'Origin': True, 'OriginCode': False, 'Destination': False, 'DestinationCode': False, 'Country': False, 'FLight_Path': False, 'Flight_Time': False, 'Departure Date': False, 'Return Date': False, 'Duration': False, 'Stops': False, 'Flight_Name': False, 'Img_URL': False, 'Price': False, 'Origin_Loc': False, 'Destination_Loc': False}\n"
     ]
    }
   ],
   "source": [
    "import pandas as pd\n",
    "df = pd.read_csv('FRS_DataSet.csv')\n",
    "\n",
    "###########################################\n",
    "# Finding Null or Empty Values from DataSet\n",
    "###########################################\n",
    "empty_Cells = df.isnull().any()\n",
    "print(empty_Cells)\n",
    "\n",
    "#####################################################################\n",
    "# if we have any null values than we got the column name using below\n",
    "#####################################################################\n",
    "nullValues = {}\n",
    "i = 0\n",
    "for index in empty_Cells.index:\n",
    "    nullValues[index] = empty_Cells[i]\n",
    "    i += 1\n",
    "print(\"\\n\", nullValues)\n"
   ]
  },
  {
   "cell_type": "code",
   "execution_count": 159,
   "id": "904fe500",
   "metadata": {},
   "outputs": [
    {
     "name": "stdout",
     "output_type": "stream",
     "text": [
      "Origin                       NaN\n",
      "Destination              Toronto\n",
      "Country        Pakistan - Canada\n",
      "Name: 1, dtype: object\n",
      "Origin                       NaN\n",
      "Destination            Vancouver\n",
      "Country        Pakistan - Canada\n",
      "Name: 3, dtype: object\n",
      "\n",
      "       Origin Destination            Country\n",
      "0  Islamabad     Toronto  Pakistan - Canada\n",
      "1  Islamabad     Toronto  Pakistan - Canada\n",
      "2  Islamabad     Toronto  Pakistan - Canada\n",
      "3  Islamabad   Vancouver  Pakistan - Canada\n",
      "4  Islamabad   Vancouver  Pakistan - Canada\n"
     ]
    }
   ],
   "source": [
    "############################################################################\n",
    "# Getting Row with index with empty Value + Above row for value Prediction\n",
    "############################################################################\n",
    "testColumns = [\"Origin\", \"Destination\", \"Country\"]\n",
    "for colName in nullValues:\n",
    "    if nullValues[colName] == True:\n",
    "        # these the rows with empty values\n",
    "        empty_Cell_Indexes = df[df[colName].isnull()].index\n",
    "        for index in empty_Cell_Indexes:\n",
    "            # these the rows with empty values\n",
    "            print(df[testColumns].iloc[index])\n",
    "            # Changing the rows wih Specific Values\n",
    "            df[colName].iloc[index] = \"Islamabad\"\n",
    "\n",
    "print(\"\\n\", df[testColumns].head(5))"
   ]
  },
  {
   "cell_type": "code",
   "execution_count": 160,
   "id": "dee2b61d",
   "metadata": {},
   "outputs": [
    {
     "name": "stdout",
     "output_type": "stream",
     "text": [
      "     Departure Date Return Date\n",
      "0         5/10/2023   5/10/2023\n",
      "1         5/10/2023   5/10/2023\n",
      "2         5/10/2023   5/10/2023\n",
      "3         5/10/2023   5/10/2023\n",
      "4         5/10/2023   5/10/2023\n",
      "...             ...         ...\n",
      "2407      5/11/2023   5/11/2023\n",
      "2408      5/11/2023   5/11/2023\n",
      "2409      5/11/2023   5/11/2023\n",
      "2410      5/11/2023   5/11/2023\n",
      "2411      5/11/2023   5/11/2023\n",
      "\n",
      "[2412 rows x 2 columns]\n",
      "     Departure Date Return Date\n",
      "0        2023-05-10   5/10/2023\n",
      "1        2023-05-10   5/10/2023\n",
      "2        2023-05-10   5/10/2023\n",
      "3        2023-05-10   5/10/2023\n",
      "4        2023-05-10   5/10/2023\n",
      "...             ...         ...\n",
      "2407     2023-05-11   5/11/2023\n",
      "2408     2023-05-11   5/11/2023\n",
      "2409     2023-05-11   5/11/2023\n",
      "2410     2023-05-11   5/11/2023\n",
      "2411     2023-05-11   5/11/2023\n",
      "\n",
      "[2412 rows x 2 columns]\n"
     ]
    }
   ],
   "source": [
    "###########################################\n",
    "# Changing the date Format in Given DataSet\n",
    "# current = 5/10/2023  Expected: 2023-05-10\n",
    "###########################################\n",
    "DateCols = [\"Departure Date\", \"Return Date\"]\n",
    "print(df[DateCols])\n",
    "df[\"Departure Date\"] = pd.to_datetime(df[DateCols[0]])\n",
    "df[\"Departure Date\"] = pd.to_datetime(df[DateCols[1]])\n",
    "print(df[DateCols])\n"
   ]
  },
  {
   "cell_type": "code",
   "execution_count": 161,
   "id": "4811d16c",
   "metadata": {},
   "outputs": [
    {
     "name": "stdout",
     "output_type": "stream",
     "text": [
      "0       False\n",
      "1       False\n",
      "2       False\n",
      "3       False\n",
      "4       False\n",
      "        ...  \n",
      "2407    False\n",
      "2408    False\n",
      "2409    False\n",
      "2410    False\n",
      "2411    False\n",
      "Length: 2412, dtype: bool\n"
     ]
    }
   ],
   "source": [
    "#################################################################\n",
    "# getting The Duplicated Values\n",
    "# Result is False because this is Already Cleaned (Self Scraped)\n",
    "#################################################################\n",
    "print(df.duplicated())"
   ]
  },
  {
   "cell_type": "code",
   "execution_count": null,
   "id": "11aa6135",
   "metadata": {},
   "outputs": [],
   "source": [
    "#################################################################\n",
    "# Now Saving This New Cleaned DataSet\n",
    "#################################################################"
   ]
  },
  {
   "cell_type": "code",
   "execution_count": 168,
   "id": "55d3fd0a",
   "metadata": {},
   "outputs": [],
   "source": [
    "df.to_csv(\"Cleaned_DataSet.csv\", sep=',', encoding='utf-8')"
   ]
  },
  {
   "cell_type": "code",
   "execution_count": 171,
   "id": "90c9c58e",
   "metadata": {},
   "outputs": [
    {
     "data": {
      "text/html": [
       "<div>\n",
       "<style scoped>\n",
       "    .dataframe tbody tr th:only-of-type {\n",
       "        vertical-align: middle;\n",
       "    }\n",
       "\n",
       "    .dataframe tbody tr th {\n",
       "        vertical-align: top;\n",
       "    }\n",
       "\n",
       "    .dataframe thead th {\n",
       "        text-align: right;\n",
       "    }\n",
       "</style>\n",
       "<table border=\"1\" class=\"dataframe\">\n",
       "  <thead>\n",
       "    <tr style=\"text-align: right;\">\n",
       "      <th></th>\n",
       "      <th>Origin</th>\n",
       "      <th>Destination</th>\n",
       "      <th>Country</th>\n",
       "    </tr>\n",
       "  </thead>\n",
       "  <tbody>\n",
       "    <tr>\n",
       "      <th>0</th>\n",
       "      <td>Islamabad</td>\n",
       "      <td>Toronto</td>\n",
       "      <td>Pakistan - Canada</td>\n",
       "    </tr>\n",
       "    <tr>\n",
       "      <th>1</th>\n",
       "      <td>Islamabad</td>\n",
       "      <td>Toronto</td>\n",
       "      <td>Pakistan - Canada</td>\n",
       "    </tr>\n",
       "    <tr>\n",
       "      <th>2</th>\n",
       "      <td>Islamabad</td>\n",
       "      <td>Toronto</td>\n",
       "      <td>Pakistan - Canada</td>\n",
       "    </tr>\n",
       "    <tr>\n",
       "      <th>3</th>\n",
       "      <td>Islamabad</td>\n",
       "      <td>Vancouver</td>\n",
       "      <td>Pakistan - Canada</td>\n",
       "    </tr>\n",
       "    <tr>\n",
       "      <th>4</th>\n",
       "      <td>Islamabad</td>\n",
       "      <td>Vancouver</td>\n",
       "      <td>Pakistan - Canada</td>\n",
       "    </tr>\n",
       "  </tbody>\n",
       "</table>\n",
       "</div>"
      ],
      "text/plain": [
       "      Origin Destination            Country\n",
       "0  Islamabad     Toronto  Pakistan - Canada\n",
       "1  Islamabad     Toronto  Pakistan - Canada\n",
       "2  Islamabad     Toronto  Pakistan - Canada\n",
       "3  Islamabad   Vancouver  Pakistan - Canada\n",
       "4  Islamabad   Vancouver  Pakistan - Canada"
      ]
     },
     "execution_count": 171,
     "metadata": {},
     "output_type": "execute_result"
    }
   ],
   "source": [
    "df2 = pd.read_csv('Cleaned_DataSet.csv')\n",
    "df2[testColumns].head(5)"
   ]
  },
  {
   "cell_type": "code",
   "execution_count": null,
   "id": "e307a46c",
   "metadata": {},
   "outputs": [],
   "source": []
  }
 ],
 "metadata": {
  "kernelspec": {
   "display_name": "Python 3 (ipykernel)",
   "language": "python",
   "name": "python3"
  },
  "language_info": {
   "codemirror_mode": {
    "name": "ipython",
    "version": 3
   },
   "file_extension": ".py",
   "mimetype": "text/x-python",
   "name": "python",
   "nbconvert_exporter": "python",
   "pygments_lexer": "ipython3",
   "version": "3.11.3"
  }
 },
 "nbformat": 4,
 "nbformat_minor": 5
}
