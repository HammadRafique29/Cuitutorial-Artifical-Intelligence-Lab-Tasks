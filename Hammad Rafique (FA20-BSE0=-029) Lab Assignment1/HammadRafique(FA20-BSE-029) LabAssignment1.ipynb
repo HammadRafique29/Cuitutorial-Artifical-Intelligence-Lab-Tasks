{
 "cells": [
  {
   "cell_type": "markdown",
   "id": "e40f278e",
   "metadata": {},
   "source": [
    "### ----------------------------------------------------------------------\n",
    "__Name:__   Hammad Rafique  \n",
    "__Reg no:__ FA20-BSE-029  \n",
    "__Subject:__ Artifical Intelligence\n",
    "### -----------------------------------------------------------------------  \n",
    "  "
   ]
  },
  {
   "cell_type": "markdown",
   "id": "22fbe8c5",
   "metadata": {},
   "source": [
    "## Question 1:\n",
    "__Create two lists based on user values. Merge both the lists and display in sorted order."
   ]
  },
  {
   "cell_type": "code",
   "execution_count": 3,
   "id": "39266d74",
   "metadata": {},
   "outputs": [
    {
     "name": "stdout",
     "output_type": "stream",
     "text": [
      "[1, 2, 3, 4, 5, 6, 7, 8, 9, 10, 11, 12]\n"
     ]
    }
   ],
   "source": [
    "l1 = [1, 2, 3, 4, 5, 6]\n",
    "l2 = [12, 8, 9, 10, 11, 7]\n",
    "l1.extend(l2)\n",
    "l1.sort()\n",
    "\n",
    "print(l1)"
   ]
  },
  {
   "cell_type": "markdown",
   "id": "ebbdcae2",
   "metadata": {},
   "source": [
    "## Question 2:\n",
    "__Find the smallest and largest value in list used in above question"
   ]
  },
  {
   "cell_type": "code",
   "execution_count": 4,
   "id": "78da36ae",
   "metadata": {},
   "outputs": [
    {
     "name": "stdout",
     "output_type": "stream",
     "text": [
      "[1, 2, 3, 4, 5, 6, 7, 8, 9, 10, 11, 12]\n",
      "Max value in List = 12\n",
      "Min value in List = 1\n"
     ]
    }
   ],
   "source": [
    "l1 = [1, 2, 3, 4, 5, 6]\n",
    "l2 = [12, 8, 9, 10, 11, 7]\n",
    "l1.extend(l2)\n",
    "l1.sort()\n",
    "\n",
    "print(l1)\n",
    "print(f'Max value in List = {max(l1)}')\n",
    "print(f'Min value in List = {min(l1)}')"
   ]
  },
  {
   "cell_type": "markdown",
   "id": "4ed67350",
   "metadata": {},
   "source": [
    "## Question 3:\n",
    "__Prove the theorm:  \n",
    "\n",
    "__d/dx(sinx) = cos(x)  \n",
    "where  \n",
    "d/dx(sinx) = sin(x+h)-sin(x) / h"
   ]
  },
  {
   "cell_type": "code",
   "execution_count": 27,
   "id": "f8b9c1cc",
   "metadata": {},
   "outputs": [
    {
     "name": "stdout",
     "output_type": "stream",
     "text": [
      "d/dx(sIn(x)) = -0.79\n",
      "d/dx(cos(x)) = -0.8\n",
      "\n",
      "d/dx(sIn(x)) = -0.42\n",
      "d/dx(cos(x)) = -0.43\n",
      "\n",
      "d/dx(sIn(x)) = -0.28\n",
      "d/dx(cos(x)) = -0.29\n",
      "\n",
      "d/dx(sIn(x)) = 0.33\n",
      "d/dx(cos(x)) = 0.32\n",
      "\n",
      "d/dx(sIn(x)) = 0.45\n",
      "d/dx(cos(x)) = 0.44\n",
      "\n",
      "d/dx(sIn(x)) = 0.52\n",
      "d/dx(cos(x)) = 0.51\n",
      "\n",
      "d/dx(sIn(x)) = 0.65\n",
      "d/dx(cos(x)) = 0.64\n",
      "\n",
      "d/dx(sIn(x)) = 0.68\n",
      "d/dx(cos(x)) = 0.67\n",
      "\n",
      "d/dx(sIn(x)) = 0.73\n",
      "d/dx(cos(x)) = 0.72\n",
      "\n",
      "d/dx(sIn(x)) = 0.77\n",
      "d/dx(cos(x)) = 0.76\n",
      "\n",
      "d/dx(sIn(x)) = 0.93\n",
      "d/dx(cos(x)) = 0.92\n",
      "\n",
      "d/dx(sIn(x)) = 0.99\n",
      "d/dx(cos(x)) = 1.0\n",
      "\n",
      "d/dx(sIn(x)) = 0.74\n",
      "d/dx(cos(x)) = 0.75\n",
      "\n",
      "d/dx(sIn(x)) = 0.56\n",
      "d/dx(cos(x)) = 0.57\n",
      "\n",
      "d/dx(sIn(x)) = 0.31\n",
      "d/dx(cos(x)) = 0.32\n",
      "\n",
      "d/dx(sIn(x)) = -0.3\n",
      "d/dx(cos(x)) = -0.29\n",
      "\n",
      "d/dx(sIn(x)) = -0.51\n",
      "d/dx(cos(x)) = -0.5\n",
      "\n",
      "d/dx(sIn(x)) = -0.96\n",
      "d/dx(cos(x)) = -0.95\n",
      "\n"
     ]
    }
   ],
   "source": [
    "from math import *\n",
    "h = 0.001\n",
    "negX = -round(pi, 2)\n",
    "posX = round(pi, 2)\n",
    "\n",
    "while negX != posX:\n",
    "    cs = round(cos(negX),2)\n",
    "    sn = (sin(negX+h) - sin(negX))\n",
    "    sn = round(sn/h,2)\n",
    "    if(cs!=sn):\n",
    "        print(f'd/dx(sIn(x)) = {sn}')\n",
    "        print(f'd/dx(cos(x)) = {cs}\\n')\n",
    "    \n",
    "    negX += 0.001\n",
    "    negX = round(negX, 3)\n"
   ]
  },
  {
   "cell_type": "code",
   "execution_count": null,
   "id": "5da97fce",
   "metadata": {},
   "outputs": [],
   "source": []
  },
  {
   "cell_type": "code",
   "execution_count": null,
   "id": "c532eee9",
   "metadata": {},
   "outputs": [],
   "source": []
  },
  {
   "cell_type": "code",
   "execution_count": null,
   "id": "ac870ddf",
   "metadata": {},
   "outputs": [],
   "source": []
  }
 ],
 "metadata": {
  "kernelspec": {
   "display_name": "Python 3 (ipykernel)",
   "language": "python",
   "name": "python3"
  },
  "language_info": {
   "codemirror_mode": {
    "name": "ipython",
    "version": 3
   },
   "file_extension": ".py",
   "mimetype": "text/x-python",
   "name": "python",
   "nbconvert_exporter": "python",
   "pygments_lexer": "ipython3",
   "version": "3.10.6"
  }
 },
 "nbformat": 4,
 "nbformat_minor": 5
}
